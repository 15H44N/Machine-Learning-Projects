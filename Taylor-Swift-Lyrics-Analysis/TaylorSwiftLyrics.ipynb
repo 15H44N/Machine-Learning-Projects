{
 "cells": [
  {
   "cell_type": "code",
   "execution_count": 246,
   "metadata": {
    "Collapsed": "false"
   },
   "outputs": [],
   "source": [
    "import pandas as pd\n",
    "import matplotlib.pyplot as plt\n",
    "plt.rcParams['figure.figsize'] = (25,30)"
   ]
  },
  {
   "cell_type": "code",
   "execution_count": 121,
   "metadata": {
    "Collapsed": "false"
   },
   "outputs": [],
   "source": [
    "lyrics = pd.read_csv(\"./FinalTaylorSwiftLyrics.csv\")"
   ]
  },
  {
   "cell_type": "code",
   "execution_count": 122,
   "metadata": {
    "Collapsed": "false"
   },
   "outputs": [
    {
     "data": {
      "text/plain": [
       "album          0\n",
       "track_title    0\n",
       "lyric          1\n",
       "year           0\n",
       "dtype: int64"
      ]
     },
     "execution_count": 122,
     "metadata": {},
     "output_type": "execute_result"
    }
   ],
   "source": [
    "lyrics.isnull().sum()"
   ]
  },
  {
   "cell_type": "code",
   "execution_count": 123,
   "metadata": {
    "Collapsed": "false"
   },
   "outputs": [],
   "source": [
    "lyrics.dropna(axis=0,inplace=True)\n",
    "lyrics.reset_index(inplace=True,drop=True)\n",
    "lyrics['words'] = lyrics['lyric'].apply(lambda x: x.split())"
   ]
  },
  {
   "cell_type": "code",
   "execution_count": 124,
   "metadata": {
    "Collapsed": "false"
   },
   "outputs": [
    {
     "data": {
      "text/html": [
       "<div>\n",
       "<style scoped>\n",
       "    .dataframe tbody tr th:only-of-type {\n",
       "        vertical-align: middle;\n",
       "    }\n",
       "\n",
       "    .dataframe tbody tr th {\n",
       "        vertical-align: top;\n",
       "    }\n",
       "\n",
       "    .dataframe thead th {\n",
       "        text-align: right;\n",
       "    }\n",
       "</style>\n",
       "<table border=\"1\" class=\"dataframe\">\n",
       "  <thead>\n",
       "    <tr style=\"text-align: right;\">\n",
       "      <th></th>\n",
       "      <th>album</th>\n",
       "      <th>track_title</th>\n",
       "      <th>lyric</th>\n",
       "      <th>year</th>\n",
       "      <th>words</th>\n",
       "    </tr>\n",
       "  </thead>\n",
       "  <tbody>\n",
       "    <tr>\n",
       "      <th>0</th>\n",
       "      <td>Taylor Swift</td>\n",
       "      <td>Tim McGraw</td>\n",
       "      <td>He said the way my blue eyes shined</td>\n",
       "      <td>2006</td>\n",
       "      <td>[He, said, the, way, my, blue, eyes, shined]</td>\n",
       "    </tr>\n",
       "    <tr>\n",
       "      <th>1</th>\n",
       "      <td>Taylor Swift</td>\n",
       "      <td>Tim McGraw</td>\n",
       "      <td>Put those Georgia stars to shame that night</td>\n",
       "      <td>2006</td>\n",
       "      <td>[Put, those, Georgia, stars, to, shame, that, ...</td>\n",
       "    </tr>\n",
       "    <tr>\n",
       "      <th>2</th>\n",
       "      <td>Taylor Swift</td>\n",
       "      <td>Tim McGraw</td>\n",
       "      <td>I said, \"That's a lie\"</td>\n",
       "      <td>2006</td>\n",
       "      <td>[I, said,, \"That's, a, lie\"]</td>\n",
       "    </tr>\n",
       "    <tr>\n",
       "      <th>3</th>\n",
       "      <td>Taylor Swift</td>\n",
       "      <td>Tim McGraw</td>\n",
       "      <td>Just a boy in a Chevy truck</td>\n",
       "      <td>2006</td>\n",
       "      <td>[Just, a, boy, in, a, Chevy, truck]</td>\n",
       "    </tr>\n",
       "    <tr>\n",
       "      <th>4</th>\n",
       "      <td>Taylor Swift</td>\n",
       "      <td>Tim McGraw</td>\n",
       "      <td>That had a tendency of gettin' stuck</td>\n",
       "      <td>2006</td>\n",
       "      <td>[That, had, a, tendency, of, gettin', stuck]</td>\n",
       "    </tr>\n",
       "  </tbody>\n",
       "</table>\n",
       "</div>"
      ],
      "text/plain": [
       "          album track_title                                        lyric  \\\n",
       "0  Taylor Swift  Tim McGraw          He said the way my blue eyes shined   \n",
       "1  Taylor Swift  Tim McGraw  Put those Georgia stars to shame that night   \n",
       "2  Taylor Swift  Tim McGraw                       I said, \"That's a lie\"   \n",
       "3  Taylor Swift  Tim McGraw                  Just a boy in a Chevy truck   \n",
       "4  Taylor Swift  Tim McGraw         That had a tendency of gettin' stuck   \n",
       "\n",
       "   year                                              words  \n",
       "0  2006       [He, said, the, way, my, blue, eyes, shined]  \n",
       "1  2006  [Put, those, Georgia, stars, to, shame, that, ...  \n",
       "2  2006                       [I, said,, \"That's, a, lie\"]  \n",
       "3  2006                [Just, a, boy, in, a, Chevy, truck]  \n",
       "4  2006       [That, had, a, tendency, of, gettin', stuck]  "
      ]
     },
     "execution_count": 124,
     "metadata": {},
     "output_type": "execute_result"
    }
   ],
   "source": [
    "lyrics.head()"
   ]
  },
  {
   "cell_type": "markdown",
   "metadata": {
    "Collapsed": "false"
   },
   "source": [
    "### Extracting Audio Features From Spotify"
   ]
  },
  {
   "cell_type": "code",
   "execution_count": 125,
   "metadata": {
    "Collapsed": "false"
   },
   "outputs": [],
   "source": [
    "import spotipy\n",
    "import json\n",
    "\n",
    "with open('./secret.json','r') as f:\n",
    "    secret = json.load(f)"
   ]
  },
  {
   "cell_type": "code",
   "execution_count": 126,
   "metadata": {
    "Collapsed": "false"
   },
   "outputs": [],
   "source": [
    "client_id =secret['client_id']\n",
    "client_secret = secret['client_secret']\n",
    "username = secret['username']\n",
    "redirect_uri=\"http://localhost:7777/callback\"\n",
    "scope = \"user-library-read\""
   ]
  },
  {
   "cell_type": "code",
   "execution_count": 127,
   "metadata": {
    "Collapsed": "false"
   },
   "outputs": [],
   "source": [
    "import spotipy\n",
    "from spotipy.oauth2 import SpotifyClientCredentials\n",
    "from spotipy.oauth2 import SpotifyOAuth\n",
    "\n",
    "#sp = spotipy.Spotify(auth_manager=SpotifyOAuth(scope=scope, client_id=client_id, client_secret=client_secret, redirect_uri=redirect_uri, username=username))\n",
    "sp = spotipy.Spotify(client_credentials_manager=SpotifyClientCredentials(client_id=client_id,client_secret=client_secret))"
   ]
  },
  {
   "cell_type": "code",
   "execution_count": 128,
   "metadata": {
    "Collapsed": "false"
   },
   "outputs": [
    {
     "data": {
      "text/html": [
       "<div>\n",
       "<style scoped>\n",
       "    .dataframe tbody tr th:only-of-type {\n",
       "        vertical-align: middle;\n",
       "    }\n",
       "\n",
       "    .dataframe tbody tr th {\n",
       "        vertical-align: top;\n",
       "    }\n",
       "\n",
       "    .dataframe thead th {\n",
       "        text-align: right;\n",
       "    }\n",
       "</style>\n",
       "<table border=\"1\" class=\"dataframe\">\n",
       "  <thead>\n",
       "    <tr style=\"text-align: right;\">\n",
       "      <th></th>\n",
       "      <th>Albums</th>\n",
       "      <th>Tracks</th>\n",
       "    </tr>\n",
       "  </thead>\n",
       "  <tbody>\n",
       "    <tr>\n",
       "      <th>0</th>\n",
       "      <td>Taylor Swift</td>\n",
       "      <td>Tim McGraw</td>\n",
       "    </tr>\n",
       "    <tr>\n",
       "      <th>1</th>\n",
       "      <td>Taylor Swift</td>\n",
       "      <td>Picture To Burn</td>\n",
       "    </tr>\n",
       "    <tr>\n",
       "      <th>2</th>\n",
       "      <td>Taylor Swift</td>\n",
       "      <td>Teardrops On My Guitar</td>\n",
       "    </tr>\n",
       "    <tr>\n",
       "      <th>3</th>\n",
       "      <td>Taylor Swift</td>\n",
       "      <td>A Place In This World</td>\n",
       "    </tr>\n",
       "    <tr>\n",
       "      <th>4</th>\n",
       "      <td>Taylor Swift</td>\n",
       "      <td>Cold as You</td>\n",
       "    </tr>\n",
       "  </tbody>\n",
       "</table>\n",
       "</div>"
      ],
      "text/plain": [
       "         Albums                  Tracks\n",
       "0  Taylor Swift              Tim McGraw\n",
       "1  Taylor Swift         Picture To Burn\n",
       "2  Taylor Swift  Teardrops On My Guitar\n",
       "3  Taylor Swift   A Place In This World\n",
       "4  Taylor Swift             Cold as You"
      ]
     },
     "execution_count": 128,
     "metadata": {},
     "output_type": "execute_result"
    }
   ],
   "source": [
    "track_titles =[]\n",
    "track_albums=[]\n",
    "alb_track ={}\n",
    "for track in lyrics['track_title'].unique():\n",
    "    index_first = list(lyrics['track_title']).index(track)\n",
    "    track_titles.append(track)\n",
    "    track_albums.append(lyrics['album'][index_first])\n",
    "\n",
    "alb_track['Albums'] = track_albums\n",
    "alb_track['Tracks'] = track_titles\n",
    "df_albums = pd.DataFrame (alb_track)\n",
    "df_albums.head()"
   ]
  },
  {
   "cell_type": "markdown",
   "metadata": {
    "Collapsed": "false"
   },
   "source": []
  },
  {
   "cell_type": "code",
   "execution_count": 129,
   "metadata": {
    "Collapsed": "false"
   },
   "outputs": [],
   "source": [
    "artist_list =[]\n",
    "for index,track in enumerate(df_albums['Tracks']):\n",
    "    if \"(Ft.\" in track:\n",
    "        #print(track)\n",
    "        new_trackname = track.split(\"(Ft.\",1)[0].strip()\n",
    "        df_albums['Tracks'][index] = new_trackname\n",
    "        ft_artist=(((track.split(\"(Ft.\",1)[1]).split(\")\")[0]).strip())\n",
    "        if '&' in ft_artist:\n",
    "            mul_artist= ft_artist.split(\"&\")\n",
    "            mul_artist = [name.strip() for name in mul_artist]\n",
    "            ft_artist = \", \".join(mul_artist)\n",
    "            \n",
    "        artist_tag = \"Taylor Swift, \"+ft_artist\n",
    "        #print(artist_tag)\n",
    "    \n",
    "    else:\n",
    "        artist_tag =\"Taylor Swift\"\n",
    "    artist_list.append(artist_tag)\n",
    "        \n",
    "df_albums['Artist'] = artist_list"
   ]
  },
  {
   "cell_type": "code",
   "execution_count": 130,
   "metadata": {
    "Collapsed": "false"
   },
   "outputs": [],
   "source": [
    "index_1 =list(df_albums['Tracks']).index(\"You're Not Sorry\")\n",
    "df_albums['Tracks'][index_1] = \"Youre Not Sorry\""
   ]
  },
  {
   "cell_type": "code",
   "execution_count": 131,
   "metadata": {
    "Collapsed": "false"
   },
   "outputs": [],
   "source": [
    "import timeit\n",
    "start_time = timeit.default_timer()\n",
    "\n",
    "track_list=[]\n",
    "for artist,album,track in zip(df_albums['Artist'],df_albums['Albums'],df_albums['Tracks']):\n",
    "    alb_track={}\n",
    "    query = 'artist:{} track:{} album:{}'.format(artist, track, album)\n",
    "    track_search = sp.search(q=query)\n",
    "    \n",
    "    #with open(\"./SearchData.json\",\"w\") as f:\n",
    "        #json.dump(track_search,f)\n",
    "    \n",
    "    try:\n",
    "        track_uri = (track_search['tracks']['items'][0]['uri'])\n",
    "        trackid = (track_search['tracks']['items'][0]['id'])\n",
    "        audio_fts = sp.audio_features(tracks=[trackid])\n",
    "    \n",
    "    except:\n",
    "        track_uri =\"\"\n",
    "        trackid =\"\"\n",
    "        audio_fts=[\" \"]\n",
    "        print(track)\n",
    "        pass\n",
    "    \n",
    "    alb_track['Album'] = album\n",
    "    alb_track['Artist'] = artist\n",
    "    alb_track['Track'] = track\n",
    "    alb_track['TrackURI'] = track_uri\n",
    "    alb_track['TrackID'] = trackid\n",
    "    \n",
    "    #audio_ans = sp.audio_analysis(trackid)\n",
    "    \n",
    "    #print(type(audio_fts),type(audio_ans))\n",
    "    #with open(\"./AudioFeatures.json\",\"w\") as f:\n",
    "        #print(audio_fts[0])\n",
    "        #json.dump(audio_fts[0],f)\n",
    "    \n",
    "    alb_track['AudioFeatures'] = audio_fts[0]\n",
    "    track_list.append(alb_track)\n",
    "\n",
    "elapsed = timeit.default_timer() - start_time"
   ]
  },
  {
   "cell_type": "code",
   "execution_count": 132,
   "metadata": {
    "Collapsed": "false"
   },
   "outputs": [
    {
     "data": {
      "text/plain": [
       "42.29677149999952"
      ]
     },
     "execution_count": 132,
     "metadata": {},
     "output_type": "execute_result"
    }
   ],
   "source": [
    "elapsed"
   ]
  },
  {
   "cell_type": "markdown",
   "metadata": {
    "Collapsed": "false"
   },
   "source": [
    "#### Post Processing and Exporting"
   ]
  },
  {
   "cell_type": "code",
   "execution_count": 141,
   "metadata": {
    "Collapsed": "false"
   },
   "outputs": [],
   "source": [
    "df_complete = pd.DataFrame(track_list)\n",
    "df_complete.loc[22,:]\n",
    "#df_complete.to_csv(\"./Saved Data/CompleteTaylorSwiftFeatures.csv\",index=False)"
   ]
  },
  {
   "cell_type": "code",
   "execution_count": 145,
   "metadata": {
    "Collapsed": "false"
   },
   "outputs": [
    {
     "data": {
      "text/plain": [
       "Index(['danceability', 'energy', 'key', 'loudness', 'mode', 'speechiness',\n",
       "       'acousticness', 'instrumentalness', 'liveness', 'valence', 'tempo',\n",
       "       'type', 'id', 'uri', 'track_href', 'analysis_url', 'duration_ms',\n",
       "       'time_signature'],\n",
       "      dtype='object')"
      ]
     },
     "execution_count": 145,
     "metadata": {},
     "output_type": "execute_result"
    }
   ],
   "source": [
    "df_audio = pd.DataFrame(list(df_complete['AudioFeatures']))\n",
    "df_audio.columns"
   ]
  },
  {
   "cell_type": "code",
   "execution_count": 151,
   "metadata": {
    "Collapsed": "false"
   },
   "outputs": [
    {
     "data": {
      "text/html": [
       "<div>\n",
       "<style scoped>\n",
       "    .dataframe tbody tr th:only-of-type {\n",
       "        vertical-align: middle;\n",
       "    }\n",
       "\n",
       "    .dataframe tbody tr th {\n",
       "        vertical-align: top;\n",
       "    }\n",
       "\n",
       "    .dataframe thead th {\n",
       "        text-align: right;\n",
       "    }\n",
       "</style>\n",
       "<table border=\"1\" class=\"dataframe\">\n",
       "  <thead>\n",
       "    <tr style=\"text-align: right;\">\n",
       "      <th></th>\n",
       "      <th>danceability</th>\n",
       "      <th>energy</th>\n",
       "      <th>key</th>\n",
       "      <th>loudness</th>\n",
       "      <th>mode</th>\n",
       "      <th>speechiness</th>\n",
       "      <th>acousticness</th>\n",
       "      <th>instrumentalness</th>\n",
       "      <th>liveness</th>\n",
       "      <th>valence</th>\n",
       "      <th>tempo</th>\n",
       "      <th>duration_ms</th>\n",
       "      <th>time_signature</th>\n",
       "    </tr>\n",
       "  </thead>\n",
       "  <tbody>\n",
       "    <tr>\n",
       "      <th>0</th>\n",
       "      <td>0.580</td>\n",
       "      <td>0.491</td>\n",
       "      <td>0</td>\n",
       "      <td>-6.462</td>\n",
       "      <td>1</td>\n",
       "      <td>0.0251</td>\n",
       "      <td>0.57500</td>\n",
       "      <td>0.000000</td>\n",
       "      <td>0.1210</td>\n",
       "      <td>0.425</td>\n",
       "      <td>76.009</td>\n",
       "      <td>232107</td>\n",
       "      <td>4</td>\n",
       "    </tr>\n",
       "    <tr>\n",
       "      <th>1</th>\n",
       "      <td>0.658</td>\n",
       "      <td>0.877</td>\n",
       "      <td>7</td>\n",
       "      <td>-2.098</td>\n",
       "      <td>1</td>\n",
       "      <td>0.0323</td>\n",
       "      <td>0.17300</td>\n",
       "      <td>0.000000</td>\n",
       "      <td>0.0962</td>\n",
       "      <td>0.821</td>\n",
       "      <td>105.586</td>\n",
       "      <td>173067</td>\n",
       "      <td>4</td>\n",
       "    </tr>\n",
       "    <tr>\n",
       "      <th>2</th>\n",
       "      <td>0.621</td>\n",
       "      <td>0.417</td>\n",
       "      <td>10</td>\n",
       "      <td>-6.941</td>\n",
       "      <td>1</td>\n",
       "      <td>0.0231</td>\n",
       "      <td>0.28800</td>\n",
       "      <td>0.000000</td>\n",
       "      <td>0.1190</td>\n",
       "      <td>0.289</td>\n",
       "      <td>99.953</td>\n",
       "      <td>203040</td>\n",
       "      <td>4</td>\n",
       "    </tr>\n",
       "    <tr>\n",
       "      <th>3</th>\n",
       "      <td>0.576</td>\n",
       "      <td>0.777</td>\n",
       "      <td>9</td>\n",
       "      <td>-2.881</td>\n",
       "      <td>1</td>\n",
       "      <td>0.0324</td>\n",
       "      <td>0.05100</td>\n",
       "      <td>0.000000</td>\n",
       "      <td>0.3200</td>\n",
       "      <td>0.428</td>\n",
       "      <td>115.028</td>\n",
       "      <td>199200</td>\n",
       "      <td>4</td>\n",
       "    </tr>\n",
       "    <tr>\n",
       "      <th>4</th>\n",
       "      <td>0.418</td>\n",
       "      <td>0.482</td>\n",
       "      <td>5</td>\n",
       "      <td>-5.769</td>\n",
       "      <td>1</td>\n",
       "      <td>0.0266</td>\n",
       "      <td>0.21700</td>\n",
       "      <td>0.000000</td>\n",
       "      <td>0.1230</td>\n",
       "      <td>0.261</td>\n",
       "      <td>175.558</td>\n",
       "      <td>239013</td>\n",
       "      <td>4</td>\n",
       "    </tr>\n",
       "    <tr>\n",
       "      <th>...</th>\n",
       "      <td>...</td>\n",
       "      <td>...</td>\n",
       "      <td>...</td>\n",
       "      <td>...</td>\n",
       "      <td>...</td>\n",
       "      <td>...</td>\n",
       "      <td>...</td>\n",
       "      <td>...</td>\n",
       "      <td>...</td>\n",
       "      <td>...</td>\n",
       "      <td>...</td>\n",
       "      <td>...</td>\n",
       "      <td>...</td>\n",
       "    </tr>\n",
       "    <tr>\n",
       "      <th>106</th>\n",
       "      <td>0.662</td>\n",
       "      <td>0.747</td>\n",
       "      <td>11</td>\n",
       "      <td>-6.926</td>\n",
       "      <td>0</td>\n",
       "      <td>0.0736</td>\n",
       "      <td>0.02800</td>\n",
       "      <td>0.006150</td>\n",
       "      <td>0.1380</td>\n",
       "      <td>0.487</td>\n",
       "      <td>150.088</td>\n",
       "      <td>234147</td>\n",
       "      <td>4</td>\n",
       "    </tr>\n",
       "    <tr>\n",
       "      <th>107</th>\n",
       "      <td>0.811</td>\n",
       "      <td>0.719</td>\n",
       "      <td>9</td>\n",
       "      <td>-6.553</td>\n",
       "      <td>1</td>\n",
       "      <td>0.0497</td>\n",
       "      <td>0.01290</td>\n",
       "      <td>0.000014</td>\n",
       "      <td>0.0742</td>\n",
       "      <td>0.865</td>\n",
       "      <td>103.979</td>\n",
       "      <td>222400</td>\n",
       "      <td>4</td>\n",
       "    </tr>\n",
       "    <tr>\n",
       "      <th>108</th>\n",
       "      <td>0.433</td>\n",
       "      <td>0.182</td>\n",
       "      <td>0</td>\n",
       "      <td>-12.566</td>\n",
       "      <td>1</td>\n",
       "      <td>0.0641</td>\n",
       "      <td>0.90700</td>\n",
       "      <td>0.000000</td>\n",
       "      <td>0.1230</td>\n",
       "      <td>0.421</td>\n",
       "      <td>207.476</td>\n",
       "      <td>201587</td>\n",
       "      <td>4</td>\n",
       "    </tr>\n",
       "    <tr>\n",
       "      <th>109</th>\n",
       "      <td>0.292</td>\n",
       "      <td>0.574</td>\n",
       "      <td>0</td>\n",
       "      <td>-9.375</td>\n",
       "      <td>1</td>\n",
       "      <td>0.0401</td>\n",
       "      <td>0.12000</td>\n",
       "      <td>0.005690</td>\n",
       "      <td>0.0663</td>\n",
       "      <td>0.166</td>\n",
       "      <td>124.344</td>\n",
       "      <td>211240</td>\n",
       "      <td>4</td>\n",
       "    </tr>\n",
       "    <tr>\n",
       "      <th>110</th>\n",
       "      <td>0.771</td>\n",
       "      <td>0.671</td>\n",
       "      <td>2</td>\n",
       "      <td>-5.617</td>\n",
       "      <td>1</td>\n",
       "      <td>0.0553</td>\n",
       "      <td>0.00929</td>\n",
       "      <td>0.000000</td>\n",
       "      <td>0.0637</td>\n",
       "      <td>0.714</td>\n",
       "      <td>85.026</td>\n",
       "      <td>171360</td>\n",
       "      <td>4</td>\n",
       "    </tr>\n",
       "  </tbody>\n",
       "</table>\n",
       "<p>111 rows × 13 columns</p>\n",
       "</div>"
      ],
      "text/plain": [
       "     danceability  energy  key  loudness  mode  speechiness  acousticness  \\\n",
       "0           0.580   0.491    0    -6.462     1       0.0251       0.57500   \n",
       "1           0.658   0.877    7    -2.098     1       0.0323       0.17300   \n",
       "2           0.621   0.417   10    -6.941     1       0.0231       0.28800   \n",
       "3           0.576   0.777    9    -2.881     1       0.0324       0.05100   \n",
       "4           0.418   0.482    5    -5.769     1       0.0266       0.21700   \n",
       "..            ...     ...  ...       ...   ...          ...           ...   \n",
       "106         0.662   0.747   11    -6.926     0       0.0736       0.02800   \n",
       "107         0.811   0.719    9    -6.553     1       0.0497       0.01290   \n",
       "108         0.433   0.182    0   -12.566     1       0.0641       0.90700   \n",
       "109         0.292   0.574    0    -9.375     1       0.0401       0.12000   \n",
       "110         0.771   0.671    2    -5.617     1       0.0553       0.00929   \n",
       "\n",
       "     instrumentalness  liveness  valence    tempo  duration_ms  time_signature  \n",
       "0            0.000000    0.1210    0.425   76.009       232107               4  \n",
       "1            0.000000    0.0962    0.821  105.586       173067               4  \n",
       "2            0.000000    0.1190    0.289   99.953       203040               4  \n",
       "3            0.000000    0.3200    0.428  115.028       199200               4  \n",
       "4            0.000000    0.1230    0.261  175.558       239013               4  \n",
       "..                ...       ...      ...      ...          ...             ...  \n",
       "106          0.006150    0.1380    0.487  150.088       234147               4  \n",
       "107          0.000014    0.0742    0.865  103.979       222400               4  \n",
       "108          0.000000    0.1230    0.421  207.476       201587               4  \n",
       "109          0.005690    0.0663    0.166  124.344       211240               4  \n",
       "110          0.000000    0.0637    0.714   85.026       171360               4  \n",
       "\n",
       "[111 rows x 13 columns]"
      ]
     },
     "execution_count": 151,
     "metadata": {},
     "output_type": "execute_result"
    }
   ],
   "source": [
    "df_audio.drop(columns=['type','id','uri','track_href','analysis_url'])"
   ]
  },
  {
   "cell_type": "code",
   "execution_count": 162,
   "metadata": {
    "Collapsed": "false"
   },
   "outputs": [
    {
     "data": {
      "text/plain": [
       "Index(['Album', 'Artist', 'Track', 'TrackURI', 'TrackID', 'danceability',\n",
       "       'energy', 'key', 'loudness', 'mode', 'speechiness', 'acousticness',\n",
       "       'instrumentalness', 'liveness', 'valence', 'tempo', 'duration_ms',\n",
       "       'time_signature'],\n",
       "      dtype='object')"
      ]
     },
     "execution_count": 162,
     "metadata": {},
     "output_type": "execute_result"
    }
   ],
   "source": [
    "final_features = pd.concat((df_complete.drop(columns=['AudioFeatures']),df_audio.drop(columns=['type','id','uri','track_href','analysis_url'])), axis=1)\n",
    "final_features.columns"
   ]
  },
  {
   "cell_type": "code",
   "execution_count": 163,
   "metadata": {
    "Collapsed": "false"
   },
   "outputs": [],
   "source": [
    "final_features=final_features[['Album', 'Artist', 'Track', 'danceability',\n",
    "       'energy', 'key', 'loudness', 'mode', 'speechiness', 'acousticness',\n",
    "       'instrumentalness', 'liveness', 'valence', 'tempo', 'duration_ms',\n",
    "       'time_signature','TrackURI', 'TrackID']]"
   ]
  },
  {
   "cell_type": "code",
   "execution_count": 199,
   "metadata": {
    "Collapsed": "false"
   },
   "outputs": [],
   "source": [
    "final_features.drop(columns=[\"Lyrics\"]).to_csv(\"./Saved Data/TaylorSwiftFeatureSet.csv\",index=False)"
   ]
  },
  {
   "cell_type": "markdown",
   "metadata": {
    "Collapsed": "false"
   },
   "source": [
    "### Lyrics Analyses"
   ]
  },
  {
   "cell_type": "markdown",
   "metadata": {
    "Collapsed": "true"
   },
   "source": [
    "#### Data Preprocessing"
   ]
  },
  {
   "cell_type": "code",
   "execution_count": 165,
   "metadata": {
    "Collapsed": "false"
   },
   "outputs": [
    {
     "name": "stderr",
     "output_type": "stream",
     "text": [
      "C:\\Users\\ishaa\\anaconda3\\lib\\site-packages\\ipykernel_launcher.py:8: SettingWithCopyWarning: \n",
      "A value is trying to be set on a copy of a slice from a DataFrame\n",
      "\n",
      "See the caveats in the documentation: https://pandas.pydata.org/pandas-docs/stable/user_guide/indexing.html#returning-a-view-versus-a-copy\n",
      "  \n"
     ]
    }
   ],
   "source": [
    "df_albums = lyrics\n",
    "artist_list =[]\n",
    "for index,track in enumerate(df_albums['track_title']):\n",
    "    if \"(Ft.\" in track:\n",
    "        #print(track)\n",
    "        new_trackname = track.split(\"(Ft.\",1)[0].strip()\n",
    "        df_albums['track_title'][index] = new_trackname\n",
    "        ft_artist=(((track.split(\"(Ft.\",1)[1]).split(\")\")[0]).strip())\n",
    "        if '&' in ft_artist:\n",
    "            mul_artist= ft_artist.split(\"&\")\n",
    "            mul_artist = [name.strip() for name in mul_artist]\n",
    "            ft_artist = \", \".join(mul_artist)\n",
    "            \n",
    "        artist_tag = \"Taylor Swift, \"+ft_artist\n",
    "        #print(artist_tag)\n",
    "    \n",
    "    else:\n",
    "        artist_tag =\"Taylor Swift\"\n",
    "    artist_list.append(artist_tag)\n",
    "        \n",
    "df_albums['artist'] = artist_list"
   ]
  },
  {
   "cell_type": "code",
   "execution_count": 175,
   "metadata": {
    "Collapsed": "false"
   },
   "outputs": [
    {
     "data": {
      "text/html": [
       "<div>\n",
       "<style scoped>\n",
       "    .dataframe tbody tr th:only-of-type {\n",
       "        vertical-align: middle;\n",
       "    }\n",
       "\n",
       "    .dataframe tbody tr th {\n",
       "        vertical-align: top;\n",
       "    }\n",
       "\n",
       "    .dataframe thead th {\n",
       "        text-align: right;\n",
       "    }\n",
       "</style>\n",
       "<table border=\"1\" class=\"dataframe\">\n",
       "  <thead>\n",
       "    <tr style=\"text-align: right;\">\n",
       "      <th></th>\n",
       "      <th>album</th>\n",
       "      <th>year</th>\n",
       "      <th>artist</th>\n",
       "      <th>track_title</th>\n",
       "      <th>lyric</th>\n",
       "      <th>words</th>\n",
       "    </tr>\n",
       "  </thead>\n",
       "  <tbody>\n",
       "    <tr>\n",
       "      <th>0</th>\n",
       "      <td>Taylor Swift</td>\n",
       "      <td>2006</td>\n",
       "      <td>Taylor Swift</td>\n",
       "      <td>Tim McGraw</td>\n",
       "      <td>He said the way my blue eyes shined</td>\n",
       "      <td>[He, said, the, way, my, blue, eyes, shined]</td>\n",
       "    </tr>\n",
       "    <tr>\n",
       "      <th>1</th>\n",
       "      <td>Taylor Swift</td>\n",
       "      <td>2006</td>\n",
       "      <td>Taylor Swift</td>\n",
       "      <td>Tim McGraw</td>\n",
       "      <td>Put those Georgia stars to shame that night</td>\n",
       "      <td>[Put, those, Georgia, stars, to, shame, that, ...</td>\n",
       "    </tr>\n",
       "    <tr>\n",
       "      <th>2</th>\n",
       "      <td>Taylor Swift</td>\n",
       "      <td>2006</td>\n",
       "      <td>Taylor Swift</td>\n",
       "      <td>Tim McGraw</td>\n",
       "      <td>I said, \"That's a lie\"</td>\n",
       "      <td>[I, said,, \"That's, a, lie\"]</td>\n",
       "    </tr>\n",
       "    <tr>\n",
       "      <th>3</th>\n",
       "      <td>Taylor Swift</td>\n",
       "      <td>2006</td>\n",
       "      <td>Taylor Swift</td>\n",
       "      <td>Tim McGraw</td>\n",
       "      <td>Just a boy in a Chevy truck</td>\n",
       "      <td>[Just, a, boy, in, a, Chevy, truck]</td>\n",
       "    </tr>\n",
       "    <tr>\n",
       "      <th>4</th>\n",
       "      <td>Taylor Swift</td>\n",
       "      <td>2006</td>\n",
       "      <td>Taylor Swift</td>\n",
       "      <td>Tim McGraw</td>\n",
       "      <td>That had a tendency of gettin' stuck</td>\n",
       "      <td>[That, had, a, tendency, of, gettin', stuck]</td>\n",
       "    </tr>\n",
       "    <tr>\n",
       "      <th>...</th>\n",
       "      <td>...</td>\n",
       "      <td>...</td>\n",
       "      <td>...</td>\n",
       "      <td>...</td>\n",
       "      <td>...</td>\n",
       "      <td>...</td>\n",
       "    </tr>\n",
       "    <tr>\n",
       "      <th>5458</th>\n",
       "      <td>Lover</td>\n",
       "      <td>2020</td>\n",
       "      <td>Taylor Swift</td>\n",
       "      <td>You Need to Calm Down</td>\n",
       "      <td>Oh-oh, oh-oh, oh-oh, oh-oh, oh-oh!</td>\n",
       "      <td>[Oh-oh,, oh-oh,, oh-oh,, oh-oh,, oh-oh!]</td>\n",
       "    </tr>\n",
       "    <tr>\n",
       "      <th>5459</th>\n",
       "      <td>Lover</td>\n",
       "      <td>2020</td>\n",
       "      <td>Taylor Swift</td>\n",
       "      <td>You Need to Calm Down</td>\n",
       "      <td>(You need to calm down)</td>\n",
       "      <td>[(You, need, to, calm, down)]</td>\n",
       "    </tr>\n",
       "    <tr>\n",
       "      <th>5460</th>\n",
       "      <td>Lover</td>\n",
       "      <td>2020</td>\n",
       "      <td>Taylor Swift</td>\n",
       "      <td>You Need to Calm Down</td>\n",
       "      <td>(You're being too loud)</td>\n",
       "      <td>[(You're, being, too, loud)]</td>\n",
       "    </tr>\n",
       "    <tr>\n",
       "      <th>5461</th>\n",
       "      <td>Lover</td>\n",
       "      <td>2020</td>\n",
       "      <td>Taylor Swift</td>\n",
       "      <td>You Need to Calm Down</td>\n",
       "      <td>(Can you stop?)</td>\n",
       "      <td>[(Can, you, stop?)]</td>\n",
       "    </tr>\n",
       "    <tr>\n",
       "      <th>5462</th>\n",
       "      <td>Lover</td>\n",
       "      <td>2020</td>\n",
       "      <td>Taylor Swift</td>\n",
       "      <td>You Need to Calm Down</td>\n",
       "      <td>Like, can you just not step on our gowns</td>\n",
       "      <td>[Like,, can, you, just, not, step, on, our, go...</td>\n",
       "    </tr>\n",
       "  </tbody>\n",
       "</table>\n",
       "<p>5463 rows × 6 columns</p>\n",
       "</div>"
      ],
      "text/plain": [
       "             album  year        artist            track_title  \\\n",
       "0     Taylor Swift  2006  Taylor Swift             Tim McGraw   \n",
       "1     Taylor Swift  2006  Taylor Swift             Tim McGraw   \n",
       "2     Taylor Swift  2006  Taylor Swift             Tim McGraw   \n",
       "3     Taylor Swift  2006  Taylor Swift             Tim McGraw   \n",
       "4     Taylor Swift  2006  Taylor Swift             Tim McGraw   \n",
       "...            ...   ...           ...                    ...   \n",
       "5458         Lover  2020  Taylor Swift  You Need to Calm Down   \n",
       "5459         Lover  2020  Taylor Swift  You Need to Calm Down   \n",
       "5460         Lover  2020  Taylor Swift  You Need to Calm Down   \n",
       "5461         Lover  2020  Taylor Swift  You Need to Calm Down   \n",
       "5462         Lover  2020  Taylor Swift  You Need to Calm Down   \n",
       "\n",
       "                                            lyric  \\\n",
       "0             He said the way my blue eyes shined   \n",
       "1     Put those Georgia stars to shame that night   \n",
       "2                          I said, \"That's a lie\"   \n",
       "3                     Just a boy in a Chevy truck   \n",
       "4            That had a tendency of gettin' stuck   \n",
       "...                                           ...   \n",
       "5458           Oh-oh, oh-oh, oh-oh, oh-oh, oh-oh!   \n",
       "5459                      (You need to calm down)   \n",
       "5460                      (You're being too loud)   \n",
       "5461                              (Can you stop?)   \n",
       "5462     Like, can you just not step on our gowns   \n",
       "\n",
       "                                                  words  \n",
       "0          [He, said, the, way, my, blue, eyes, shined]  \n",
       "1     [Put, those, Georgia, stars, to, shame, that, ...  \n",
       "2                          [I, said,, \"That's, a, lie\"]  \n",
       "3                   [Just, a, boy, in, a, Chevy, truck]  \n",
       "4          [That, had, a, tendency, of, gettin', stuck]  \n",
       "...                                                 ...  \n",
       "5458           [Oh-oh,, oh-oh,, oh-oh,, oh-oh,, oh-oh!]  \n",
       "5459                      [(You, need, to, calm, down)]  \n",
       "5460                       [(You're, being, too, loud)]  \n",
       "5461                                [(Can, you, stop?)]  \n",
       "5462  [Like,, can, you, just, not, step, on, our, go...  \n",
       "\n",
       "[5463 rows x 6 columns]"
      ]
     },
     "execution_count": 175,
     "metadata": {},
     "output_type": "execute_result"
    }
   ],
   "source": [
    "df_albums=df_albums[['album','year','artist','track_title','lyric','words']]\n",
    "df_albums"
   ]
  },
  {
   "cell_type": "code",
   "execution_count": 229,
   "metadata": {
    "Collapsed": "false"
   },
   "outputs": [],
   "source": [
    "lyriclist=[]\n",
    "for i,track in enumerate(df_albums['track_title'].unique()):\n",
    "    lyrics = \"\\n\".join(list(df_albums.loc[df_albums['track_title'] == track,'lyric']))\n",
    "    lyriclist.append(lyrics)"
   ]
  },
  {
   "cell_type": "code",
   "execution_count": 230,
   "metadata": {
    "Collapsed": "false"
   },
   "outputs": [],
   "source": [
    "final_features['Lyrics'] = lyriclist"
   ]
  },
  {
   "cell_type": "code",
   "execution_count": 231,
   "metadata": {
    "Collapsed": "false"
   },
   "outputs": [],
   "source": [
    "final_features.to_csv(\"./Saved Data/TaylorSwiftLyricsFeatureSet.csv\",index=False)"
   ]
  },
  {
   "cell_type": "code",
   "execution_count": 233,
   "metadata": {
    "Collapsed": "false"
   },
   "outputs": [
    {
     "data": {
      "text/html": [
       "<div>\n",
       "<style scoped>\n",
       "    .dataframe tbody tr th:only-of-type {\n",
       "        vertical-align: middle;\n",
       "    }\n",
       "\n",
       "    .dataframe tbody tr th {\n",
       "        vertical-align: top;\n",
       "    }\n",
       "\n",
       "    .dataframe thead th {\n",
       "        text-align: right;\n",
       "    }\n",
       "</style>\n",
       "<table border=\"1\" class=\"dataframe\">\n",
       "  <thead>\n",
       "    <tr style=\"text-align: right;\">\n",
       "      <th></th>\n",
       "      <th>Album</th>\n",
       "      <th>Artist</th>\n",
       "      <th>Track</th>\n",
       "      <th>danceability</th>\n",
       "      <th>energy</th>\n",
       "      <th>key</th>\n",
       "      <th>loudness</th>\n",
       "      <th>mode</th>\n",
       "      <th>speechiness</th>\n",
       "      <th>acousticness</th>\n",
       "      <th>instrumentalness</th>\n",
       "      <th>liveness</th>\n",
       "      <th>valence</th>\n",
       "      <th>tempo</th>\n",
       "      <th>duration_ms</th>\n",
       "      <th>time_signature</th>\n",
       "      <th>TrackURI</th>\n",
       "      <th>TrackID</th>\n",
       "      <th>Lyrics</th>\n",
       "    </tr>\n",
       "  </thead>\n",
       "  <tbody>\n",
       "    <tr>\n",
       "      <th>0</th>\n",
       "      <td>Taylor Swift</td>\n",
       "      <td>Taylor Swift</td>\n",
       "      <td>Tim McGraw</td>\n",
       "      <td>0.58</td>\n",
       "      <td>0.491</td>\n",
       "      <td>0</td>\n",
       "      <td>-6.462</td>\n",
       "      <td>1</td>\n",
       "      <td>0.0251</td>\n",
       "      <td>0.575</td>\n",
       "      <td>0.0</td>\n",
       "      <td>0.121</td>\n",
       "      <td>0.425</td>\n",
       "      <td>76.009</td>\n",
       "      <td>232107</td>\n",
       "      <td>4</td>\n",
       "      <td>spotify:track:0Om9WAB5RS09L80DyOfTNa</td>\n",
       "      <td>0Om9WAB5RS09L80DyOfTNa</td>\n",
       "      <td>He said the way my blue eyes shined\\nPut those...</td>\n",
       "    </tr>\n",
       "  </tbody>\n",
       "</table>\n",
       "</div>"
      ],
      "text/plain": [
       "          Album        Artist       Track  danceability  energy  key  \\\n",
       "0  Taylor Swift  Taylor Swift  Tim McGraw          0.58   0.491    0   \n",
       "\n",
       "   loudness  mode  speechiness  acousticness  instrumentalness  liveness  \\\n",
       "0    -6.462     1       0.0251         0.575               0.0     0.121   \n",
       "\n",
       "   valence   tempo  duration_ms  time_signature  \\\n",
       "0    0.425  76.009       232107               4   \n",
       "\n",
       "                               TrackURI                 TrackID  \\\n",
       "0  spotify:track:0Om9WAB5RS09L80DyOfTNa  0Om9WAB5RS09L80DyOfTNa   \n",
       "\n",
       "                                              Lyrics  \n",
       "0  He said the way my blue eyes shined\\nPut those...  "
      ]
     },
     "execution_count": 233,
     "metadata": {},
     "output_type": "execute_result"
    }
   ],
   "source": [
    "final_features.head(1)"
   ]
  },
  {
   "cell_type": "markdown",
   "metadata": {
    "Collapsed": "true"
   },
   "source": [
    "#### Sentiment Analysis"
   ]
  },
  {
   "cell_type": "code",
   "execution_count": 234,
   "metadata": {
    "Collapsed": "false"
   },
   "outputs": [
    {
     "name": "stderr",
     "output_type": "stream",
     "text": [
      "[nltk_data] Downloading package vader_lexicon to\n",
      "[nltk_data]     C:\\Users\\ishaa\\AppData\\Roaming\\nltk_data...\n",
      "[nltk_data]   Package vader_lexicon is already up-to-date!\n"
     ]
    },
    {
     "data": {
      "text/plain": [
       "True"
      ]
     },
     "execution_count": 234,
     "metadata": {},
     "output_type": "execute_result"
    }
   ],
   "source": [
    "from nltk.sentiment.vader import SentimentIntensityAnalyzer\n",
    "import nltk \n",
    "nltk.download('vader_lexicon')"
   ]
  },
  {
   "cell_type": "code",
   "execution_count": 240,
   "metadata": {
    "Collapsed": "false"
   },
   "outputs": [],
   "source": [
    "df_sentiment = pd.DataFrame(columns=('track', 'pos', 'neu', 'neg'))\n",
    "sid = SentimentIntensityAnalyzer()\n",
    "i=0\n",
    "\n",
    "start_time = timeit.default_timer()\n",
    "for lyrics,track in zip(final_features['Lyrics'],final_features['Track']):\n",
    "    num_positive = 0\n",
    "    num_negative = 0\n",
    "    num_neutral = 0\n",
    "    \n",
    "    for sentence in lyrics.split(\"\\n\"):\n",
    "        #this_sentence = sentence.decode(\"utf-8\")\n",
    "        comp = sid.polarity_scores(sentence)\n",
    "        \n",
    "        comp = comp['compound']\n",
    "        if comp >= 0.5:\n",
    "            num_positive += 1\n",
    "        \n",
    "        elif comp > -0.5 and comp < 0.5:\n",
    "            num_neutral += 1\n",
    "        \n",
    "        else:\n",
    "            num_negative += 1\n",
    "    \n",
    "    num_total = num_negative + num_neutral + num_positive\n",
    "    percent_negative = (num_negative/float(num_total))*100\n",
    "    percent_neutral = (num_neutral/float(num_total))*100\n",
    "    percent_positive = (num_positive/float(num_total))*100\n",
    "    \n",
    "    df_sentiment.loc[i] = (track, percent_positive, percent_neutral, percent_negative)\n",
    "    i+=1\n",
    "\n",
    "elapsed = timeit.default_timer() - start_time"
   ]
  },
  {
   "cell_type": "code",
   "execution_count": 241,
   "metadata": {
    "Collapsed": "false"
   },
   "outputs": [
    {
     "data": {
      "text/plain": [
       "0.6989261000016995"
      ]
     },
     "execution_count": 241,
     "metadata": {},
     "output_type": "execute_result"
    }
   ],
   "source": [
    "elapsed"
   ]
  },
  {
   "cell_type": "markdown",
   "metadata": {
    "Collapsed": "false"
   },
   "source": [
    "#### Plot for Lyric Sentiments"
   ]
  },
  {
   "cell_type": "code",
   "execution_count": 251,
   "metadata": {
    "Collapsed": "false"
   },
   "outputs": [
    {
     "data": {
      "image/png": "[encoded data removed]",
      "text/plain": [
       "<Figure size 1800x2160 with 1 Axes>"
      ]
     },
     "metadata": {
      "needs_background": "light"
     },
     "output_type": "display_data"
    }
   ],
   "source": [
    "df_sentiment.plot(kind=\"barh\", x='track', stacked=True)\n",
    "plt.savefig('./Plots/SentimentOfLyrics')"
   ]
  },
  {
   "cell_type": "markdown",
   "metadata": {
    "Collapsed": "false"
   },
   "source": [
    "#### Other Analyses"
   ]
  },
  {
   "cell_type": "code",
   "execution_count": null,
   "metadata": {
    "Collapsed": "false"
   },
   "outputs": [],
   "source": []
  },
  {
   "cell_type": "code",
   "execution_count": 248,
   "metadata": {
    "Collapsed": "false"
   },
   "outputs": [
    {
     "data": {
      "text/html": [
       "<div>\n",
       "<style scoped>\n",
       "    .dataframe tbody tr th:only-of-type {\n",
       "        vertical-align: middle;\n",
       "    }\n",
       "\n",
       "    .dataframe tbody tr th {\n",
       "        vertical-align: top;\n",
       "    }\n",
       "\n",
       "    .dataframe thead th {\n",
       "        text-align: right;\n",
       "    }\n",
       "</style>\n",
       "<table border=\"1\" class=\"dataframe\">\n",
       "  <thead>\n",
       "    <tr style=\"text-align: right;\">\n",
       "      <th></th>\n",
       "      <th>track</th>\n",
       "      <th>pos</th>\n",
       "      <th>neu</th>\n",
       "      <th>neg</th>\n",
       "    </tr>\n",
       "  </thead>\n",
       "  <tbody>\n",
       "    <tr>\n",
       "      <th>0</th>\n",
       "      <td>Tim McGraw</td>\n",
       "      <td>10.909091</td>\n",
       "      <td>89.090909</td>\n",
       "      <td>0.000000</td>\n",
       "    </tr>\n",
       "    <tr>\n",
       "      <th>1</th>\n",
       "      <td>Picture To Burn</td>\n",
       "      <td>4.000000</td>\n",
       "      <td>66.000000</td>\n",
       "      <td>30.000000</td>\n",
       "    </tr>\n",
       "    <tr>\n",
       "      <th>2</th>\n",
       "      <td>Teardrops On My Guitar</td>\n",
       "      <td>19.444444</td>\n",
       "      <td>80.555556</td>\n",
       "      <td>0.000000</td>\n",
       "    </tr>\n",
       "    <tr>\n",
       "      <th>3</th>\n",
       "      <td>A Place In This World</td>\n",
       "      <td>3.703704</td>\n",
       "      <td>96.296296</td>\n",
       "      <td>0.000000</td>\n",
       "    </tr>\n",
       "    <tr>\n",
       "      <th>4</th>\n",
       "      <td>Cold as You</td>\n",
       "      <td>12.500000</td>\n",
       "      <td>79.166667</td>\n",
       "      <td>8.333333</td>\n",
       "    </tr>\n",
       "    <tr>\n",
       "      <th>...</th>\n",
       "      <td>...</td>\n",
       "      <td>...</td>\n",
       "      <td>...</td>\n",
       "      <td>...</td>\n",
       "    </tr>\n",
       "    <tr>\n",
       "      <th>106</th>\n",
       "      <td>Miss Americana &amp; the Heartbreak Prince</td>\n",
       "      <td>4.878049</td>\n",
       "      <td>73.170732</td>\n",
       "      <td>21.951220</td>\n",
       "    </tr>\n",
       "    <tr>\n",
       "      <th>107</th>\n",
       "      <td>Paper Rings</td>\n",
       "      <td>15.000000</td>\n",
       "      <td>85.000000</td>\n",
       "      <td>0.000000</td>\n",
       "    </tr>\n",
       "    <tr>\n",
       "      <th>108</th>\n",
       "      <td>Soon You'll Get Better (feat. Dixie Chicks)</td>\n",
       "      <td>4.347826</td>\n",
       "      <td>91.304348</td>\n",
       "      <td>4.347826</td>\n",
       "    </tr>\n",
       "    <tr>\n",
       "      <th>109</th>\n",
       "      <td>The Archer</td>\n",
       "      <td>4.166667</td>\n",
       "      <td>87.500000</td>\n",
       "      <td>8.333333</td>\n",
       "    </tr>\n",
       "    <tr>\n",
       "      <th>110</th>\n",
       "      <td>You Need to Calm Down</td>\n",
       "      <td>4.347826</td>\n",
       "      <td>89.130435</td>\n",
       "      <td>6.521739</td>\n",
       "    </tr>\n",
       "  </tbody>\n",
       "</table>\n",
       "<p>111 rows × 4 columns</p>\n",
       "</div>"
      ],
      "text/plain": [
       "                                           track        pos        neu  \\\n",
       "0                                     Tim McGraw  10.909091  89.090909   \n",
       "1                                Picture To Burn   4.000000  66.000000   \n",
       "2                         Teardrops On My Guitar  19.444444  80.555556   \n",
       "3                          A Place In This World   3.703704  96.296296   \n",
       "4                                    Cold as You  12.500000  79.166667   \n",
       "..                                           ...        ...        ...   \n",
       "106       Miss Americana & the Heartbreak Prince   4.878049  73.170732   \n",
       "107                                  Paper Rings  15.000000  85.000000   \n",
       "108  Soon You'll Get Better (feat. Dixie Chicks)   4.347826  91.304348   \n",
       "109                                   The Archer   4.166667  87.500000   \n",
       "110                        You Need to Calm Down   4.347826  89.130435   \n",
       "\n",
       "           neg  \n",
       "0     0.000000  \n",
       "1    30.000000  \n",
       "2     0.000000  \n",
       "3     0.000000  \n",
       "4     8.333333  \n",
       "..         ...  \n",
       "106  21.951220  \n",
       "107   0.000000  \n",
       "108   4.347826  \n",
       "109   8.333333  \n",
       "110   6.521739  \n",
       "\n",
       "[111 rows x 4 columns]"
      ]
     },
     "execution_count": 248,
     "metadata": {},
     "output_type": "execute_result"
    }
   ],
   "source": [
    "df_sentiment"
   ]
  }
 ],
 "metadata": {
  "kernelspec": {
   "display_name": "Python [conda env:Anaconda3] *",
   "language": "python",
   "name": "conda-env-Anaconda3-py"
  },
  "language_info": {
   "codemirror_mode": {
    "name": "ipython",
    "version": 3
   },
   "file_extension": ".py",
   "mimetype": "text/x-python",
   "name": "python",
   "nbconvert_exporter": "python",
   "pygments_lexer": "ipython3",
   "version": "3.7.6"
  }
 },
 "nbformat": 4,
 "nbformat_minor": 4
}
